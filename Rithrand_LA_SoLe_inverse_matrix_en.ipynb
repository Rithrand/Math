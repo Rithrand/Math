{
  "cells": [
    {
      "cell_type": "code",
      "source": [
        "import numpy as np\n",
        "\n",
        "# Define the coefficient matrix A and the constant vector b\n",
        "A = np.array([[1, 2, 3], [2, 0, 3], [1, 0, 3]])\n",
        "b = np.array([5, 4, 3])\n",
        "\n",
        "# Calculate the inverse of matrix A\n",
        "A_inv = np.linalg.inv(A)\n",
        "\n",
        "# Solve for x by multiplying the inverse of A with b\n",
        "x = A_inv.dot(b)\n",
        "\n",
        "# Print the solution\n",
        "print(x)"
      ],
      "metadata": {
        "id": "puuDoc5sUeWn",
        "outputId": "6b4ab88b-c402-452b-9639-c96a89bb4a24",
        "colab": {
          "base_uri": "https://localhost:8080/"
        }
      },
      "execution_count": 8,
      "outputs": [
        {
          "output_type": "stream",
          "name": "stdout",
          "text": [
            "[1.         1.         0.66666667]\n"
          ]
        }
      ]
    },
    {
      "cell_type": "code",
      "source": [
        "import numpy as np\n",
        "\n",
        "# Define the coefficient matrix A and the constant vector b\n",
        "A = np.array([[21, 222, 32], [4, 5, 6], [7, 8, 9]])\n",
        "b = np.array([41, 93, 145])\n",
        "\n",
        "# Calculate the inverse of matrix A\n",
        "A_inv = np.linalg.inv(A)\n",
        "\n",
        "# Solve for x by multiplying the inverse of A with b\n",
        "x = A_inv.dot(b)\n",
        "\n",
        "# Print the solution\n",
        "print(x)"
      ],
      "metadata": {
        "id": "FpTUdd3jUg2U",
        "outputId": "b9d8422a-6277-4489-d4bd-08f9462706b8",
        "colab": {
          "base_uri": "https://localhost:8080/"
        }
      },
      "execution_count": 9,
      "outputs": [
        {
          "output_type": "stream",
          "name": "stdout",
          "text": [
            "[ 6.65899403 -2.31798806 12.99232737]\n"
          ]
        }
      ]
    }
  ],
  "metadata": {
    "colab": {
      "name": "Colaboratory'ye Hoş Geldiniz",
      "toc_visible": true,
      "provenance": []
    },
    "kernelspec": {
      "display_name": "Python 3",
      "name": "python3"
    }
  },
  "nbformat": 4,
  "nbformat_minor": 0
}