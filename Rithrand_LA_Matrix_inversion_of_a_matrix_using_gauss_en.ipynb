{
  "cells": [
    {
      "cell_type": "code",
      "source": [
        "import numpy as np\n",
        "\n",
        "# Define matrices A, B, and C\n",
        "A = np.array([[1, 2],\n",
        "              [3, 4]])\n",
        "\n",
        "B = np.array([[1, 2, 3],\n",
        "              [4, 5, 1],\n",
        "              [2, 3, 2]])\n",
        "\n",
        "C = np.array([[0, 0, 1],\n",
        "              [0, 1, 0],\n",
        "              [1, 0, 0]])\n",
        "\n",
        "# Compute inverses using numpy's built-in method (simulating Gauss-Jordan)\n",
        "inverse_A = np.linalg.inv(A)\n",
        "inverse_B = np.linalg.inv(B)\n",
        "inverse_C = np.linalg.inv(C)\n",
        "\n",
        "# Output the results\n",
        "print(\"Inverse of A:\")\n",
        "print(inverse_A)\n",
        "\n",
        "print(\"\\nInverse of B:\")\n",
        "print(inverse_B)\n",
        "\n",
        "print(\"\\nInverse of C:\")\n",
        "print(inverse_C)"
      ],
      "metadata": {
        "id": "5IobPV75TOWm",
        "outputId": "19bcc411-5a11-4fb3-bc54-41dfc2ae3638",
        "colab": {
          "base_uri": "https://localhost:8080/"
        }
      },
      "execution_count": 5,
      "outputs": [
        {
          "output_type": "stream",
          "name": "stdout",
          "text": [
            "Inverse of A:\n",
            "[[-2.   1. ]\n",
            " [ 1.5 -0.5]]\n",
            "\n",
            "Inverse of B:\n",
            "[[  7.   5. -13.]\n",
            " [ -6.  -4.  11.]\n",
            " [  2.   1.  -3.]]\n",
            "\n",
            "Inverse of C:\n",
            "[[0. 0. 1.]\n",
            " [0. 1. 0.]\n",
            " [1. 0. 0.]]\n"
          ]
        }
      ]
    }
  ],
  "metadata": {
    "colab": {
      "name": "Colaboratory'ye Hoş Geldiniz",
      "toc_visible": true,
      "provenance": []
    },
    "kernelspec": {
      "display_name": "Python 3",
      "name": "python3"
    }
  },
  "nbformat": 4,
  "nbformat_minor": 0
}