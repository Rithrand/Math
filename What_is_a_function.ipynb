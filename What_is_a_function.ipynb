{
  "cells": [
    {
      "cell_type": "code",
      "source": [
        "# Function Definition\n",
        "\n",
        "**Set-theory definition of a function** states that a function $f$ is a special case of a relation. A relation is simply any set of ordered pairs. A function, on the other hand, is a relation $f \\subseteq X \\times Y$ that satisfies an additional condition: for each element $x \\in X$, there is **exactly one** element $y \\in Y$ assigned to it.\n",
        "\n",
        "Formally, a function $f$ is a relation that satisfies the following condition:\n",
        "\n",
        "$$\n",
        "\\forall x_1, x_2 \\in X, \\, \\forall y_1, y_2 \\in Y \\, \\left( (x_1, y_1) \\in f \\land (x_2, y_2) \\in f : (x_1 = x_2) \\Rightarrow (y_1 = y_2) \\right)\n",
        "$$\n",
        "\n",
        "This means that if for the same $x_1$ we have two pairs $(x_1, y_1)$ and $(x_1, y_2)$, then $y_1$ must be equal to $y_2$. In other words, no element from $X$ can be associated with more than one element from $Y$.\n",
        "\n",
        "### Important Points:\n",
        "1. **Relation** in set theory is simply a set of ordered pairs $(x, y)$, where $x$ comes from set $X$ and $y$ comes from set $Y$.\n",
        "2. **Function** is a relation that additionally satisfies the condition that for every $x$ there is exactly one pair $(x, y)$ in this relation.\n",
        "\n",
        "Thus, a function $f \\subseteq X \\times Y$ is a relation that satisfies the additional condition that for each $x \\in X$ there is exactly one $y \\in Y$ such that $(x, y) \\in f$.\n",
        "\n",
        "### Examples\n",
        "\n",
        "**Example 1**\n",
        "\n",
        "$$\n",
        "f=\\{(\\text{dog}, \\text{pies}), (\\text{cat}, \\text{kot}), (\\text{horse}, \\text{koń})\\}\n",
        "$$\n",
        "\n",
        "**Example 2**\n",
        "\n",
        "$$\n",
        "f=\\{(1,2), (2,3), (3,4)\\}\n",
        "$$\n",
        "\n",
        "This means that $f(1)=2$, $f(2)=3$, and $f(3)=4$.\n",
        "\n",
        "**Example 3**\n",
        "\n",
        "$$\n",
        "f=\\{(1,1),(2,1/2),(3,1/3),...\\}=\\{(n,1/n): n \\in \\mathbb{N}\\}\n",
        "$$\n",
        "\n",
        "where $\\mathbb{N}$ denotes the set of natural numbers. This function assigns each $n$ the value $1/n$.\n",
        "\n",
        "We often denote sequences using $f(n)=1/n$.\n",
        "\n",
        "**Example 4**\n",
        "\n",
        "The quadratic function often written as $f(x)=x^2$ is a function that assigns each $x$ the value $x^2$. In our notation, we write this as\n",
        "\n",
        "$$\n",
        "f=\\{(x,x^2): x \\in \\mathbb{R}\\}\n",
        "$$\n",
        "\n",
        "**Example 5**\n",
        "\n",
        "The determinant of a matrix is a function that assigns each matrix a number. In our notation, we write this as\n",
        "\n",
        "$$\n",
        "f=\\{(M,\\text{det}(M)): M \\text{ is a square matrix}\\}\n",
        "$$\n",
        "\n",
        "**Example 6**\n",
        "\n",
        "A matrix itself is also a function that assigns each pair of indices $(i,j)$ where $i,j \\in \\{1,2,...,n\\}$ the element of the matrix at position $(i,j)$. In our notation, we write this as\n",
        "\n",
        "$$\n",
        "M=\\{((i,j),M_{ij}): i,j \\in \\{1,2,...,n\\}\\}\n",
        "$$\n",
        "\n",
        "for convenience, we write this as a two-dimensional array:\n",
        "\n",
        "$$\n",
        "M=\\begin{bmatrix}\n",
        "M_{11} & M_{12} & \\cdots & M_{1n} \\\\\n",
        "M_{21} & M_{22} & \\cdots & M_{2n} \\\\\n",
        "\\vdots & \\vdots & \\ddots & \\vdots \\\\\n",
        "M_{n1} & M_{n2} & \\cdots & M_{nn}\n",
        "\\end{bmatrix}\n",
        "$$\n",
        "\n",
        "**Example 7**\n",
        "\n",
        "Matrix addition is a function that assigns each pair of matrices their sum. In our notation, we write this as\n",
        "\n",
        "$$\n",
        "f=\\{((A,B),A+B): A,B \\text{ are matrices of the same dimensions}\\}\n",
        "$$\n",
        "\n",
        "where $A+B$ is the matrix whose elements are the sums of the elements of matrices $A$ and $B$, that is, for each $i,j$ we have\n",
        "$$\n",
        "(A+B)_{ij}=A_{ij}+B_{ij}\n",
        "$$\n",
        "\n",
        "**Example 8**\n",
        "\n",
        "A dictionary in Python is also a function that assigns each key a value. In our notation, we write this as:"
      ],
      "metadata": {
        "id": "JPBkppnJV1Yd"
      },
      "execution_count": null,
      "outputs": []
    },
    {
      "cell_type": "code",
      "source": [
        "f={1:1,2:4,3:9,4:16,5:25}\n",
        "f"
      ],
      "metadata": {
        "id": "tCc3aPP5V92a",
        "outputId": "2531271c-601c-43fb-a725-71e45833b00b",
        "colab": {
          "base_uri": "https://localhost:8080/"
        }
      },
      "execution_count": 17,
      "outputs": [
        {
          "output_type": "execute_result",
          "data": {
            "text/plain": [
              "{1: 1, 2: 4, 3: 9, 4: 16, 5: 25}"
            ]
          },
          "metadata": {},
          "execution_count": 17
        }
      ]
    },
    {
      "cell_type": "code",
      "source": [
        "f={1:5,2:10,3:15,4:20,5:25}\n",
        "f=f"
      ],
      "metadata": {
        "id": "qoY7gSNUV-x6"
      },
      "execution_count": 16,
      "outputs": []
    },
    {
      "cell_type": "code",
      "source": [
        "# Querying the dictionary for values for keys 1, 2, 3 similarly to how we write it in mathematics!!!\n",
        "print(f\"Value for key 1: f[1] = {f[1]}\")\n",
        "print(f\"Value for key 2: f[2] = {f[2]}\")\n",
        "print(f\"Value for key 3: f[3] = {f[3]}\")"
      ],
      "metadata": {
        "id": "wudNAFzgWGDY"
      },
      "execution_count": null,
      "outputs": []
    },
    {
      "cell_type": "code",
      "source": [
        "print(f\"Value for key 1: f[1] = {f[1]}\")\n",
        "print(f\"Value for key 2: f[2] = {f[2]}\")\n",
        "print(f\"Value for key 3: f[3] = {f[3]}\")"
      ],
      "metadata": {
        "id": "XOl0ENWoWYam",
        "outputId": "87a51da2-af86-4e4c-a47d-9c10b2e9771e",
        "colab": {
          "base_uri": "https://localhost:8080/"
        }
      },
      "execution_count": 15,
      "outputs": [
        {
          "output_type": "stream",
          "name": "stdout",
          "text": [
            "Value for key 1: f[1] = 5\n",
            "Value for key 2: f[2] = 10\n",
            "Value for key 3: f[3] = 15\n"
          ]
        }
      ]
    },
    {
      "cell_type": "code",
      "source": [
        "# Re-initialize the dictionary\n",
        "f = {1: 1, 2: 4, 3: 9, 4: 16, 5: 25}\n",
        "print(f\"Value for key 5: f[5] = {f[5]}\")"
      ],
      "metadata": {
        "id": "Gm_BKizEWkYa",
        "outputId": "6b192942-2961-4a11-a77b-f9ec917889ff",
        "colab": {
          "base_uri": "https://localhost:8080/"
        }
      },
      "execution_count": 18,
      "outputs": [
        {
          "output_type": "stream",
          "name": "stdout",
          "text": [
            "Value for key 5: f[5] = 25\n"
          ]
        }
      ]
    },
    {
      "cell_type": "code",
      "source": [
        "# Example of encoding colors as a dictionary\n",
        "color_codes = {\"red\": \"#FF0000\", \"green\": \"#00FF00\", \"blue\": \"#0000FF\"}\n",
        "print(f\"Red color code: {color_codes['red']}\")\n",
        "print(f\"Green color code: {color_codes['green']}\")\n",
        "print(f\"Blue color code: {color_codes['blue']}\")"
      ],
      "metadata": {
        "id": "GnxYi09HWms6",
        "outputId": "d1f30a2c-5128-4bd1-9a9f-9593f07c1327",
        "colab": {
          "base_uri": "https://localhost:8080/"
        }
      },
      "execution_count": 19,
      "outputs": [
        {
          "output_type": "stream",
          "name": "stdout",
          "text": [
            "Red color code: #FF0000\n",
            "Green color code: #00FF00\n",
            "Blue color code: #0000FF\n"
          ]
        }
      ]
    },
    {
      "cell_type": "code",
      "source": [
        "**Example 9**\n",
        "\n",
        "The way to write a function in Python is very natural.\n",
        "We need:\n",
        "\n",
        "* to give it a name\n",
        "* define the arguments\n",
        "* specify the operations to perform\n",
        "* return the result\n",
        "\n",
        "```python\n",
        "def function_name(arguments):\n",
        "    \"do something with arguments\"\n",
        "    return result\n",
        "```"
      ],
      "metadata": {
        "id": "zIBamdBWWtT_"
      },
      "execution_count": null,
      "outputs": []
    },
    {
      "cell_type": "code",
      "source": [
        "def function_name(division):\n",
        "  \"do the division\"\n",
        "  return result\n"
      ],
      "metadata": {
        "id": "wluJnnvuW2KI"
      },
      "execution_count": 21,
      "outputs": []
    },
    {
      "cell_type": "code",
      "source": [
        "# Quadratic function\n",
        "def f(x):\n",
        "    return x**2\n",
        "\n",
        "# equivalently as a lambda\n",
        "f = lambda x: x**2\n",
        "\n",
        "# Querying the function for values for arguments 1, 2, 3 similarly to how we write it in mathematics!!!\n",
        "print(f\"Value for argument 1: f(1) = {f(1)}\")\n",
        "print(f\"Value for argument 2: f(2) = {f(2)}\")\n",
        "print(f\"Value for argument 3: f(3) = {f(3)}\")"
      ],
      "metadata": {
        "id": "zFPjkPrgW8_l",
        "outputId": "22f2eac0-ea88-4f44-cfc3-f89f923afc3b",
        "colab": {
          "base_uri": "https://localhost:8080/"
        }
      },
      "execution_count": 22,
      "outputs": [
        {
          "output_type": "stream",
          "name": "stdout",
          "text": [
            "Value for argument 1: f(1) = 1\n",
            "Value for argument 2: f(2) = 4\n",
            "Value for argument 3: f(3) = 9\n"
          ]
        }
      ]
    },
    {
      "cell_type": "code",
      "source": [
        "# prompt: definition of square\n",
        "\n",
        "def square(x):\n",
        "  \"\"\"\n",
        "  This function calculates the square of a number.\n",
        "\n",
        "  Args:\n",
        "    x: The number to be squared.\n",
        "\n",
        "  Returns:\n",
        "    The square of the number.\n",
        "  \"\"\"\n",
        "  return x * x\n",
        "\n",
        "# Example usage:\n",
        "number = 5\n",
        "result = square(number)\n",
        "print(f\"The square of {number} is {result}\")"
      ],
      "metadata": {
        "id": "oYCetjyKXA8X",
        "outputId": "375da58c-ab09-4c84-a973-278c2a8681a3",
        "colab": {
          "base_uri": "https://localhost:8080/"
        }
      },
      "execution_count": 23,
      "outputs": [
        {
          "output_type": "stream",
          "name": "stdout",
          "text": [
            "The square of 5 is 25\n"
          ]
        }
      ]
    },
    {
      "cell_type": "code",
      "source": [
        "# Derivative - more on this in upcoming lessons\n",
        "import sympy as sp  # we need the sympy library\n",
        "from IPython.display import display, Math  # to display results as LaTeX\n",
        "\n",
        "x = sp.symbols('x')  # define variable x\n",
        "\n",
        "def calculate_derivative(f):\n",
        "    return sp.diff(f, x)\n",
        "\n",
        "# define a few functions to calculate the derivative\n",
        "functions_list = [x**2, sp.sin(x**3), sp.exp(sp.sin(x)), sp.log(x**2 + 1)]\n",
        "\n",
        "# calculate derivatives for each function in the list\n",
        "for f in functions_list:\n",
        "    # Display the result as LaTeX\n",
        "    display(Math(r'Derivative\\ of\\ the\\ function\\ {}\\ is\\ {}'.format(sp.latex(f), sp.latex(calculate_derivative(f)))))"
      ],
      "metadata": {
        "id": "17p0bPejXFF6",
        "outputId": "87b81073-4e8e-44aa-94c9-691d6e441344",
        "colab": {
          "base_uri": "https://localhost:8080/",
          "height": 118
        }
      },
      "execution_count": 24,
      "outputs": [
        {
          "output_type": "display_data",
          "data": {
            "text/plain": [
              "<IPython.core.display.Math object>"
            ],
            "text/latex": "$\\displaystyle Derivative\\ of\\ the\\ function\\ x^{2}\\ is\\ 2 x$"
          },
          "metadata": {}
        },
        {
          "output_type": "display_data",
          "data": {
            "text/plain": [
              "<IPython.core.display.Math object>"
            ],
            "text/latex": "$\\displaystyle Derivative\\ of\\ the\\ function\\ \\sin{\\left(x^{3} \\right)}\\ is\\ 3 x^{2} \\cos{\\left(x^{3} \\right)}$"
          },
          "metadata": {}
        },
        {
          "output_type": "display_data",
          "data": {
            "text/plain": [
              "<IPython.core.display.Math object>"
            ],
            "text/latex": "$\\displaystyle Derivative\\ of\\ the\\ function\\ e^{\\sin{\\left(x \\right)}}\\ is\\ e^{\\sin{\\left(x \\right)}} \\cos{\\left(x \\right)}$"
          },
          "metadata": {}
        },
        {
          "output_type": "display_data",
          "data": {
            "text/plain": [
              "<IPython.core.display.Math object>"
            ],
            "text/latex": "$\\displaystyle Derivative\\ of\\ the\\ function\\ \\log{\\left(x^{2} + 1 \\right)}\\ is\\ \\frac{2 x}{x^{2} + 1}$"
          },
          "metadata": {}
        }
      ]
    },
    {
      "cell_type": "code",
      "source": [
        "# Import sympy library\n",
        "import sympy as sp\n",
        "from IPython.display import display, Math\n",
        "\n",
        "# Define the variable\n",
        "x = sp.symbols('x')\n",
        "\n",
        "# Function to calculate the derivative\n",
        "def calculate_derivative(f):\n",
        "    return sp.diff(f, x)\n",
        "\n",
        "# Create a list of functions\n",
        "functions_list = [x*2, sp.sin(x**3), sp.exp(sp.sin(x)), sp.log(x*2 + 1)]\n",
        "\n",
        "# Calculate the derivative for each function in the list and display the result\n",
        "for f in functions_list:\n",
        "    display(Math(r'Derivative of the function {} is {}'.format(sp.latex(f), sp.latex(calculate_derivative(f)))))"
      ],
      "metadata": {
        "id": "sonCiv8oXSFC",
        "outputId": "c682c4c6-e511-4c71-c45a-a1b95b298c74",
        "colab": {
          "base_uri": "https://localhost:8080/",
          "height": 118
        }
      },
      "execution_count": 25,
      "outputs": [
        {
          "output_type": "display_data",
          "data": {
            "text/plain": [
              "<IPython.core.display.Math object>"
            ],
            "text/latex": "$\\displaystyle Derivative of the function 2 x is 2$"
          },
          "metadata": {}
        },
        {
          "output_type": "display_data",
          "data": {
            "text/plain": [
              "<IPython.core.display.Math object>"
            ],
            "text/latex": "$\\displaystyle Derivative of the function \\sin{\\left(x^{3} \\right)} is 3 x^{2} \\cos{\\left(x^{3} \\right)}$"
          },
          "metadata": {}
        },
        {
          "output_type": "display_data",
          "data": {
            "text/plain": [
              "<IPython.core.display.Math object>"
            ],
            "text/latex": "$\\displaystyle Derivative of the function e^{\\sin{\\left(x \\right)}} is e^{\\sin{\\left(x \\right)}} \\cos{\\left(x \\right)}$"
          },
          "metadata": {}
        },
        {
          "output_type": "display_data",
          "data": {
            "text/plain": [
              "<IPython.core.display.Math object>"
            ],
            "text/latex": "$\\displaystyle Derivative of the function \\log{\\left(2 x + 1 \\right)} is \\frac{2}{2 x + 1}$"
          },
          "metadata": {}
        }
      ]
    },
    {
      "cell_type": "code",
      "source": [
        "# Other examples of defining functions in sympy\n",
        "f=(x+1)**2\n",
        "g=sp.sin(x)"
      ],
      "metadata": {
        "id": "tet-EGN2XeAd"
      },
      "execution_count": 26,
      "outputs": []
    },
    {
      "cell_type": "code",
      "source": [
        "# We can display the functions\n",
        "f"
      ],
      "metadata": {
        "id": "j7FDTM-tXgRp"
      },
      "execution_count": null,
      "outputs": []
    },
    {
      "cell_type": "code",
      "source": [
        "# We can add functions\n",
        "f+g"
      ],
      "metadata": {
        "id": "bg8jJoOqXhBA"
      },
      "execution_count": null,
      "outputs": []
    },
    {
      "cell_type": "code",
      "source": [
        "# We can differentiate functions\n",
        "f.diff(x)"
      ],
      "metadata": {
        "id": "DUXh-3XjXiss"
      },
      "execution_count": null,
      "outputs": []
    },
    {
      "cell_type": "code",
      "source": [
        "# We can integrate functions\n",
        "f.integrate(x)"
      ],
      "metadata": {
        "id": "1F0-qhiYXlVy"
      },
      "execution_count": null,
      "outputs": []
    },
    {
      "cell_type": "code",
      "source": [
        "# We can plot functions\n",
        "sp.plot(g, (x, -5, 5))"
      ],
      "metadata": {
        "id": "Z1yvfd75XnFB"
      },
      "execution_count": null,
      "outputs": []
    },
    {
      "cell_type": "code",
      "source": [
        "# We can also define general functions\n",
        "f, g = sp.symbols('f g', cls=sp.Function)\n",
        "f(x)+g(x)"
      ],
      "metadata": {
        "id": "xiTcrmiZXnuO"
      },
      "execution_count": null,
      "outputs": []
    },
    {
      "cell_type": "code",
      "source": [
        "## We can see one of the integration rules\n",
        "sp.expand(sp.integrate(f(x)+g(x), x))"
      ],
      "metadata": {
        "id": "LqS24b_KXpcI"
      },
      "execution_count": null,
      "outputs": []
    }
  ],
  "metadata": {
    "colab": {
      "name": "Colaboratory'ye Hoş Geldiniz",
      "toc_visible": true,
      "provenance": []
    },
    "kernelspec": {
      "display_name": "Python 3",
      "name": "python3"
    }
  },
  "nbformat": 4,
  "nbformat_minor": 0
}