{
  "cells": [
    {
      "cell_type": "code",
      "source": [
        "import numpy as np\n",
        "\n",
        "# Define matrices A, B, C, D\n",
        "A = np.array([[2, 3, 1], [1, 4, 0], [3, 2, 1]])\n",
        "B = np.array([[2, 3, 1], [1, 4, 0], [3, 2, 0]])\n",
        "C = np.array([[2, 3, 1, 4], [1, 1, 0, 6], [3, 2, 1, 5], [2, 1, 4, 0]])\n",
        "D = np.array([[2, 3, 1, 4, 5], [1, 4, 0, 7, 0], [3, 0, 1, 0, 0], [2, 1, 4, 3, 5], [1, 2, 3, 4, 5]])\n",
        "\n",
        "# Calculate determinants\n",
        "det_A = np.linalg.det(A)\n",
        "det_B = np.linalg.det(B)\n",
        "det_C = np.linalg.det(C)\n",
        "det_D = np.linalg.det(D)\n",
        "\n",
        "print(f\"Determinant of A: {det_A}\")\n",
        "print(f\"Determinant of B: {det_B}\")\n",
        "print(f\"Determinant of C: {det_C}\")\n",
        "print(f\"Determinant of D: {det_D}\")"
      ],
      "metadata": {
        "colab": {
          "base_uri": "https://localhost:8080/"
        },
        "id": "12gGJ1gARfyf",
        "outputId": "0fcc69e8-ca0d-4be9-aafb-5cc5682d09c4"
      },
      "execution_count": 1,
      "outputs": [
        {
          "output_type": "stream",
          "name": "stdout",
          "text": [
            "Determinant of A: -5.000000000000001\n",
            "Determinant of B: -10.000000000000002\n",
            "Determinant of C: -65.00000000000004\n",
            "Determinant of D: 40.000000000000085\n"
          ]
        }
      ]
    }
  ],
  "metadata": {
    "colab": {
      "provenance": []
    },
    "kernelspec": {
      "display_name": "Python 3 (ipykernel)",
      "language": "python",
      "name": "python3"
    },
    "language_info": {
      "codemirror_mode": {
        "name": "ipython",
        "version": 3
      },
      "file_extension": ".py",
      "mimetype": "text/x-python",
      "name": "python",
      "nbconvert_exporter": "python",
      "pygments_lexer": "ipython3",
      "version": "3.13.0"
    }
  },
  "nbformat": 4,
  "nbformat_minor": 0
}