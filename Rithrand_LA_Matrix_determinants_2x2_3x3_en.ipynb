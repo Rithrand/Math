{
  "cells": [
    {
      "cell_type": "code",
      "source": [
        "import numpy as np\n",
        "\n",
        "# Define the 2x2 matrices A, B, C\n",
        "A_2x2 = np.array([[2, 3], [1, 4]])\n",
        "B_2x2 = np.array([[5, 6], [7, 8]])\n",
        "C_2x2 = np.array([[-1, 2], [3, 0]])\n",
        "\n",
        "# Define the 3x3 matrices D, E, F\n",
        "D_3x3 = np.array([[1, 0, 2], [-1, 3, 1], [2, 4, -2]])\n",
        "E_3x3 = np.array([[3, 0, 1], [5, 1, 2], [5, 3, 2]])\n",
        "F_3x3 = np.array([[2, -3, 1], [1, 4, -2], [1, 5, 3]])\n",
        "\n",
        "# Calculate the determinants\n",
        "det_A = np.linalg.det(A_2x2)\n",
        "det_B = np.linalg.det(B_2x2)\n",
        "det_C = np.linalg.det(C_2x2)\n",
        "\n",
        "det_D = np.linalg.det(D_3x3)\n",
        "det_E = np.linalg.det(E_3x3)\n",
        "det_F = np.linalg.det(F_3x3)\n",
        "\n",
        "# Print the results\n",
        "print(f\"Determinant of A (2x2): {det_A}\")\n",
        "print(f\"Determinant of B (2x2): {det_B}\")\n",
        "print(f\"Determinant of C (2x2): {det_C}\")\n",
        "\n",
        "print(f\"Determinant of D (3x3): {det_D}\")\n",
        "print(f\"Determinant of E (3x3): {det_E}\")\n",
        "print(f\"Determinant of F (3x3): {det_F}\")"
      ],
      "metadata": {
        "colab": {
          "base_uri": "https://localhost:8080/"
        },
        "id": "MAEzWnNpSG3_",
        "outputId": "d222446c-aa57-42ab-ace3-69af4d9d2ee7"
      },
      "execution_count": 2,
      "outputs": [
        {
          "output_type": "stream",
          "name": "stdout",
          "text": [
            "Determinant of A (2x2): 5.000000000000001\n",
            "Determinant of B (2x2): -2.000000000000005\n",
            "Determinant of C (2x2): -6.0\n",
            "Determinant of D (3x3): -29.99999999999999\n",
            "Determinant of E (3x3): -2.0000000000000013\n",
            "Determinant of F (3x3): 60.000000000000036\n"
          ]
        }
      ]
    }
  ],
  "metadata": {
    "colab": {
      "provenance": []
    },
    "kernelspec": {
      "display_name": "Python 3 (ipykernel)",
      "language": "python",
      "name": "python3"
    },
    "language_info": {
      "codemirror_mode": {
        "name": "ipython",
        "version": 3
      },
      "file_extension": ".py",
      "mimetype": "text/x-python",
      "name": "python",
      "nbconvert_exporter": "python",
      "pygments_lexer": "ipython3",
      "version": "3.13.0"
    }
  },
  "nbformat": 4,
  "nbformat_minor": 0
}