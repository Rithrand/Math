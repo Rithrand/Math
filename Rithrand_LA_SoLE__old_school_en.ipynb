{
  "cells": [
    {
      "cell_type": "code",
      "source": [
        "import numpy as np\n",
        "\n",
        "# System 1: 3x - 2y = 5, 2x + 3y = 7\n",
        "A = np.array([[3, -2], [2, 3]])\n",
        "b = np.array([5, 7])\n",
        "x = np.linalg.solve(A, b)\n",
        "print(f\"System 1 solution: x = {x[0]}, y = {x[1]}\")\n",
        "\n",
        "# System 2: 2x - 3y = 10, 4x + 5y = 20\n",
        "A = np.array([[2, -3], [4, 5]])\n",
        "b = np.array([10, 20])\n",
        "x = np.linalg.solve(A, b)\n",
        "print(f\"System 2 solution: x = {x[0]}, y = {x[1]}\")\n",
        "\n",
        "# System 3: 2x - y + 2z = 3, x + 2y - z = 1, 3x - y + 2z = 11\n",
        "A = np.array([[2, -1, 2], [1, 2, -1], [3, -1, 2]])\n",
        "b = np.array([3, 1, 11])\n",
        "x = np.linalg.solve(A, b)\n",
        "print(f\"System 3 solution: x = {x[0]}, y = {x[1]}, z = {x[2]}\")\n",
        "\n",
        "# System 4: 2x - 3y + 4z + 2t = 2, 3x + 2y - 5z + 3t = 3, 4x - 3y + 2z - 5t = 4, 5x + 4y - 3z + 2t = 5\n",
        "A = np.array([[2, -3, 4, 2], [3, 2, -5, 3], [4, -3, 2, -5], [5, 4, -3, 2]])\n",
        "b = np.array([2, 3, 4, 5])\n",
        "x = np.linalg.solve(A, b)\n",
        "print(f\"System 4 solution: x = {x[0]}, y = {x[1]}, z = {x[2]}, t = {x[3]}\")"
      ],
      "metadata": {
        "id": "XjAWrh3PT7Vw",
        "outputId": "66e0235c-395c-4088-ff96-131dfd1718de",
        "colab": {
          "base_uri": "https://localhost:8080/"
        }
      },
      "execution_count": 7,
      "outputs": [
        {
          "output_type": "stream",
          "name": "stdout",
          "text": [
            "System 1 solution: x = 2.230769230769231, y = 0.8461538461538463\n",
            "System 2 solution: x = 5.0, y = -0.0\n",
            "System 3 solution: x = 8.0, y = -9.0, z = -11.0\n",
            "System 4 solution: x = 0.9999999999999998, y = 1.1102230246251568e-16, z = 1.0597583416876493e-16, t = -3.3643121958338084e-17\n"
          ]
        }
      ]
    }
  ],
  "metadata": {
    "colab": {
      "name": "Colaboratory'ye Hoş Geldiniz",
      "toc_visible": true,
      "provenance": []
    },
    "kernelspec": {
      "display_name": "Python 3",
      "name": "python3"
    }
  },
  "nbformat": 4,
  "nbformat_minor": 0
}