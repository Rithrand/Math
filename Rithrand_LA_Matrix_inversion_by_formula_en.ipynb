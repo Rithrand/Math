{
  "cells": [
    {
      "cell_type": "code",
      "source": [
        "import numpy as np\n",
        "\n",
        "# 1. Inverse of the first matrix\n",
        "matrix_1 = np.array([[2, 0, 1],\n",
        "                     [0, 1, 0],\n",
        "                     [1, 2, 0]])\n",
        "\n",
        "inverse_matrix_1 = np.linalg.inv(matrix_1)\n",
        "\n",
        "# Verifying if the inverse is correct by multiplying the matrix with its inverse\n",
        "identity_matrix = np.dot(matrix_1, inverse_matrix_1)\n",
        "\n",
        "print(\"Inverse of the matrix:\")\n",
        "print(inverse_matrix_1)\n",
        "print(\"\\nVerification (Matrix * Inverse = Identity):\")\n",
        "print(identity_matrix)\n",
        "\n",
        "# 2. Determinant and rank of matrix A\n",
        "A = np.array([[4, -3, 7],\n",
        "              [-1, 6, 3],\n",
        "              [2, 9, 1]])\n",
        "\n",
        "det_A = np.linalg.det(A)\n",
        "rank_A = np.linalg.matrix_rank(A)\n",
        "\n",
        "print(\"\\nDeterminant of matrix A:\", det_A)\n",
        "print(\"Rank of matrix A:\", rank_A)"
      ],
      "metadata": {
        "id": "xL8mcKNRS7L8",
        "outputId": "8bcd2020-eb9e-4d0d-e302-7716aa9b8ba5",
        "colab": {
          "base_uri": "https://localhost:8080/"
        }
      },
      "execution_count": 4,
      "outputs": [
        {
          "output_type": "stream",
          "name": "stdout",
          "text": [
            "Inverse of the matrix:\n",
            "[[ 0. -2.  1.]\n",
            " [ 0.  1.  0.]\n",
            " [ 1.  4. -2.]]\n",
            "\n",
            "Verification (Matrix * Inverse = Identity):\n",
            "[[1. 0. 0.]\n",
            " [0. 1. 0.]\n",
            " [0. 0. 1.]]\n",
            "\n",
            "Determinant of matrix A: -251.9999999999998\n",
            "Rank of matrix A: 3\n"
          ]
        }
      ]
    }
  ],
  "metadata": {
    "colab": {
      "name": "Colaboratory'ye Hoş Geldiniz",
      "toc_visible": true,
      "provenance": []
    },
    "kernelspec": {
      "display_name": "Python 3",
      "name": "python3"
    }
  },
  "nbformat": 4,
  "nbformat_minor": 0
}